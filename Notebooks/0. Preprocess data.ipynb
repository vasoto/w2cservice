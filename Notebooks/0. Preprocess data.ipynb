{
 "cells": [
  {
   "cell_type": "code",
   "execution_count": 1,
   "metadata": {},
   "outputs": [],
   "source": [
    "import itertools\n",
    "import json\n",
    "from multiprocessing import Pool\n",
    "import pickle\n",
    "import re\n",
    "import string\n",
    "from typing import List, Dict, Any, Union\n",
    "\n",
    "from gensim.models import Word2Vec\n",
    "import gensim.corpora.textcorpus\n",
    "import gensim.parsing.preprocessing\n",
    "from nltk.corpus import stopwords\n",
    "\n",
    "Dataset = List[Dict[str, Union[int, str, List[str]]]]"
   ]
  },
  {
   "cell_type": "code",
   "execution_count": 2,
   "metadata": {},
   "outputs": [],
   "source": [
    "def load_dataset(dataset_file: str='../data/dataset.json') -> Dataset:\n",
    "    with open(dataset_file) as datafile:\n",
    "        return json.load(datafile)\n",
    "\n",
    "def split_sentences(text: str) -> List[str]:\n",
    "    return [sentence.strip() for sentence in text.split('.')]\n",
    "\n",
    "\n",
    "def extract_titles(data: Dataset) -> List[List[str]]:\n",
    "    return [split_sentences(record['title'].lower()) for record in data]\n",
    "\n",
    "\n",
    "def extract_abstracts(data: Dataset) -> List[List[str]]:\n",
    "    return [split_sentences(record['description'].lower()) for record in data]"
   ]
  },
  {
   "cell_type": "code",
   "execution_count": 3,
   "metadata": {},
   "outputs": [],
   "source": [
    "data = load_dataset()"
   ]
  },
  {
   "cell_type": "code",
   "execution_count": 4,
   "metadata": {},
   "outputs": [
    {
     "data": {
      "text/plain": [
       "{'description': 'The production process of almost all modern steels involves austenitization formation of the austenite phase upon continuous heating. Many of the microstructural features and properties that are obtained upon subsequent cooling are to a large extend determined by the evolution of the microstructure and chemical inhomogeneities during austenitization. In spite of its importance, austenitization so far has received much less attention than the transformations on cooling; however, the interest is continuously increasing, especially for the development of new types of steels (Dual-Phase steel, TRansformation-Induced Plasticity steel etc.). The aim of the thesis is to develop knowledge and to gain better understanding of the formation of the austenite microstructure in steel during heating, e.g. austenite nucleation kinetics, austenite growth modes and morphologies, redistribution of carbon between the phases during the transformatio',\n",
       " 'abstract_word_count': 130,\n",
       " 'title': 'Austenite formation in C-Mn steel',\n",
       " 'id': '79290022',\n",
       " 'year': 2009,\n",
       " 'authors': ['Savran, V.I.']}"
      ]
     },
     "execution_count": 4,
     "metadata": {},
     "output_type": "execute_result"
    }
   ],
   "source": [
    "data[0]"
   ]
  },
  {
   "cell_type": "code",
   "execution_count": 5,
   "metadata": {},
   "outputs": [],
   "source": [
    "all_ = extract_abstracts(data) + extract_titles(data)"
   ]
  },
  {
   "cell_type": "code",
   "execution_count": 6,
   "metadata": {},
   "outputs": [
    {
     "data": {
      "text/plain": [
       "['the production process of almost all modern steels involves austenitization formation of the austenite phase upon continuous heating',\n",
       " 'many of the microstructural features and properties that are obtained upon subsequent cooling are to a large extend determined by the evolution of the microstructure and chemical inhomogeneities during austenitization',\n",
       " 'in spite of its importance, austenitization so far has received much less attention than the transformations on cooling; however, the interest is continuously increasing, especially for the development of new types of steels (dual-phase steel, transformation-induced plasticity steel etc',\n",
       " ')',\n",
       " 'the aim of the thesis is to develop knowledge and to gain better understanding of the formation of the austenite microstructure in steel during heating, e',\n",
       " 'g',\n",
       " 'austenite nucleation kinetics, austenite growth modes and morphologies, redistribution of carbon between the phases during the transformatio']"
      ]
     },
     "execution_count": 6,
     "metadata": {},
     "output_type": "execute_result"
    }
   ],
   "source": [
    "all_[0]"
   ]
  },
  {
   "cell_type": "code",
   "execution_count": 7,
   "metadata": {},
   "outputs": [],
   "source": [
    "# Flatten\n",
    "all_ = list(itertools.chain.from_iterable(all_))"
   ]
  },
  {
   "cell_type": "code",
   "execution_count": 8,
   "metadata": {},
   "outputs": [
    {
     "data": {
      "text/plain": [
       "'the production process of almost all modern steels involves austenitization formation of the austenite phase upon continuous heating'"
      ]
     },
     "execution_count": 8,
     "metadata": {},
     "output_type": "execute_result"
    }
   ],
   "source": [
    "all_[0]"
   ]
  },
  {
   "cell_type": "code",
   "execution_count": 9,
   "metadata": {},
   "outputs": [],
   "source": [
    "# Removing non ASCII chars\n",
    "all_ = [re.sub(r'[^\\x00-\\x7f]', r' ', sentence) for sentence in all_]"
   ]
  },
  {
   "cell_type": "code",
   "execution_count": 10,
   "metadata": {},
   "outputs": [
    {
     "data": {
      "text/plain": [
       "'reported results show that the investigated bainite-austenite steel can be used for constructing add-on armour and that the armour fulfils requirements of protection level 2 of stanag 4569'"
      ]
     },
     "execution_count": 10,
     "metadata": {},
     "output_type": "execute_result"
    }
   ],
   "source": [
    "all_[10]"
   ]
  },
  {
   "cell_type": "code",
   "execution_count": 11,
   "metadata": {},
   "outputs": [],
   "source": [
    "# Remove numbers\n",
    "numbers_pattern = re.compile(r'\\d+')\n",
    "all_ = [numbers_pattern.sub(r'', sentence) for sentence in all_]"
   ]
  },
  {
   "cell_type": "code",
   "execution_count": 12,
   "metadata": {},
   "outputs": [],
   "source": [
    "all_ = [\n",
    "        gensim.corpora.textcorpus.strip_multiple_whitespaces(sentence)\n",
    "        for sentence in all_\n",
    "]"
   ]
  },
  {
   "cell_type": "code",
   "execution_count": 13,
   "metadata": {},
   "outputs": [],
   "source": [
    "all_ = [\n",
    "        gensim.parsing.preprocessing.strip_punctuation2(sentence)\n",
    "        for sentence in all_\n",
    "    ]"
   ]
  },
  {
   "cell_type": "code",
   "execution_count": 14,
   "metadata": {},
   "outputs": [
    {
     "data": {
      "text/plain": [
       "'reported results show that the investigated bainite austenite steel can be used for constructing add on armour and that the armour fulfils requirements of protection level of stanag '"
      ]
     },
     "execution_count": 14,
     "metadata": {},
     "output_type": "execute_result"
    }
   ],
   "source": [
    "all_[10]"
   ]
  },
  {
   "cell_type": "code",
   "execution_count": 15,
   "metadata": {},
   "outputs": [],
   "source": [
    "stops = set(stopwords.words(\"english\"))\n",
    "\n",
    "all_ = [[word for word in sentence.split() if word not in stops]\n",
    "            for sentence in all_]"
   ]
  },
  {
   "cell_type": "code",
   "execution_count": 16,
   "metadata": {},
   "outputs": [],
   "source": [
    "# all_ = [\n",
    "#         gensim.corpora.textcorpus.remove_short(sentence, minsize=2)\n",
    "#         for sentence in all_\n",
    "#     ]"
   ]
  },
  {
   "cell_type": "code",
   "execution_count": 17,
   "metadata": {},
   "outputs": [
    {
     "data": {
      "text/plain": [
       "['reported',\n",
       " 'results',\n",
       " 'show',\n",
       " 'investigated',\n",
       " 'bainite',\n",
       " 'austenite',\n",
       " 'steel',\n",
       " 'used',\n",
       " 'constructing',\n",
       " 'add',\n",
       " 'armour',\n",
       " 'armour',\n",
       " 'fulfils',\n",
       " 'requirements',\n",
       " 'protection',\n",
       " 'level',\n",
       " 'stanag']"
      ]
     },
     "execution_count": 17,
     "metadata": {},
     "output_type": "execute_result"
    }
   ],
   "source": [
    "all_[10]"
   ]
  },
  {
   "cell_type": "code",
   "execution_count": 18,
   "metadata": {},
   "outputs": [],
   "source": [
    "# Remove empty sentences\n",
    "all_ = [sentence for sentence in all_ if len(sentence)]"
   ]
  },
  {
   "cell_type": "code",
   "execution_count": 19,
   "metadata": {},
   "outputs": [],
   "source": [
    "with open('../data/preprocessed_dataset.pickle', 'wb') as datafile:\n",
    "    pickle.dump(all_, datafile)"
   ]
  }
 ],
 "metadata": {
  "kernelspec": {
   "display_name": "Python 3",
   "language": "python",
   "name": "python3"
  },
  "language_info": {
   "codemirror_mode": {
    "name": "ipython",
    "version": 3
   },
   "file_extension": ".py",
   "mimetype": "text/x-python",
   "name": "python",
   "nbconvert_exporter": "python",
   "pygments_lexer": "ipython3",
   "version": "3.7.7"
  }
 },
 "nbformat": 4,
 "nbformat_minor": 4
}
