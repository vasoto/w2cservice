{
 "cells": [
  {
   "cell_type": "code",
   "execution_count": 1,
   "metadata": {},
   "outputs": [],
   "source": [
    "import sys\n",
    "sys.path.append('../w2v_service')\n",
    "\n",
    "import json\n",
    "import pickle\n",
    "\n",
    "from gensim.models import Word2Vec\n",
    "import gensim.downloader as api\n",
    "import numpy"
   ]
  },
  {
   "cell_type": "code",
   "execution_count": 2,
   "metadata": {},
   "outputs": [],
   "source": [
    "from w2v.pip_loss import calculate_pip_distance\n",
    "from w2v.utils import load_ref_data, load_vocabulary"
   ]
  },
  {
   "cell_type": "code",
   "execution_count": 3,
   "metadata": {},
   "outputs": [],
   "source": [
    "REF_DATA, REF_MATRIX = load_ref_data('../data')\n",
    "VOCABULARY = load_vocabulary('../data/preprocessed_dataset.pickle')"
   ]
  },
  {
   "cell_type": "code",
   "execution_count": 4,
   "metadata": {},
   "outputs": [
    {
     "name": "stdout",
     "output_type": "stream",
     "text": [
      "Word2Vec(vocab=171603, size=100, alpha=0.025)\n",
      "0.2906765998675416\n",
      "5\n"
     ]
    }
   ],
   "source": [
    "model = Word2Vec.load(\n",
    "    \"../third/materials-word-embeddings/bin/word2vec_embeddings-SNAPSHOT.model\")\n",
    "print(model)\n",
    "pip_dist_base = calculate_pip_distance(REF_DATA, REF_MATRIX, model)\n",
    "print(pip_dist_base)\n",
    "print(model.epochs)"
   ]
  },
  {
   "cell_type": "code",
   "execution_count": 5,
   "metadata": {},
   "outputs": [],
   "source": [
    "from functools import partial\n",
    "from gensim.models.callbacks import CallbackAny2Vec\n",
    "\n",
    "\n",
    "pip_dist_calc = partial(calculate_pip_distance, REF_DATA, REF_MATRIX)\n",
    "\n",
    "class EpochLoss(CallbackAny2Vec):\n",
    "    def __init__(self):\n",
    "        self.epoch = 0\n",
    "    \n",
    "    def on_epoch_end(self, model):\n",
    "        self.epoch += 1\n",
    "        print(f\"{self.epoch}: {pip_dist_calc(model)} {model.alpha}\")"
   ]
  },
  {
   "cell_type": "code",
   "execution_count": 6,
   "metadata": {},
   "outputs": [
    {
     "data": {
      "text/plain": [
       "{'max_final_vocab': None,\n",
       " 'callbacks': (),\n",
       " 'load': <function gensim.utils.call_on_class_only(*args, **kwargs)>,\n",
       " 'wv': <gensim.models.keyedvectors.Word2VecKeyedVectors at 0x187c670cc88>,\n",
       " 'vocabulary': <gensim.models.word2vec.Word2VecVocab at 0x187d321afc8>,\n",
       " 'trainables': <gensim.models.word2vec.Word2VecTrainables at 0x187c1d19b88>,\n",
       " 'sg': 0,\n",
       " 'alpha': 0.025,\n",
       " 'window': 5,\n",
       " 'random': RandomState(MT19937) at 0x187C10BEBF8,\n",
       " 'min_alpha': 0.0001,\n",
       " 'hs': 0,\n",
       " 'negative': 5,\n",
       " 'ns_exponent': 0.75,\n",
       " 'cbow_mean': 1,\n",
       " 'compute_loss': False,\n",
       " 'running_training_loss': 0,\n",
       " 'min_alpha_yet_reached': 0.025,\n",
       " 'corpus_count': 2616049,\n",
       " 'corpus_total_words': None,\n",
       " 'vector_size': 100,\n",
       " 'workers': 20,\n",
       " 'epochs': 5,\n",
       " 'train_count': 6420,\n",
       " 'total_train_time': 15857.520852804184,\n",
       " 'batch_words': 10000,\n",
       " 'model_trimmed_post_training': False}"
      ]
     },
     "execution_count": 6,
     "metadata": {},
     "output_type": "execute_result"
    }
   ],
   "source": [
    "model.__dict__"
   ]
  },
  {
   "cell_type": "code",
   "execution_count": 7,
   "metadata": {},
   "outputs": [],
   "source": [
    "model.build_vocab(VOCABULARY, update=True, progress_per=1)"
   ]
  },
  {
   "cell_type": "code",
   "execution_count": 8,
   "metadata": {},
   "outputs": [
    {
     "name": "stdout",
     "output_type": "stream",
     "text": [
      "1: 0.29641261129393787 0.1\n",
      "2: 0.29990413687382783 0.1\n",
      "3: 0.2923346452257005 0.1\n",
      "4: 0.2891877809434924 0.1\n",
      "5: 0.2946684803206732 0.1\n",
      "6: 0.28194451422097055 0.1\n",
      "7: 0.2789140782665042 0.1\n",
      "8: 0.29272589552094413 0.1\n",
      "9: 0.2980959080283236 0.1\n",
      "10: 0.2933887794616834 0.1\n",
      "11: 0.2984549844934341 0.1\n",
      "12: 0.305764577250028 0.1\n",
      "13: 0.31352894005949355 0.1\n",
      "14: 0.30382291213919077 0.1\n",
      "15: 0.2932706116461968 0.1\n"
     ]
    },
    {
     "data": {
      "text/plain": [
       "(36584802, 38101440)"
      ]
     },
     "execution_count": 8,
     "metadata": {},
     "output_type": "execute_result"
    }
   ],
   "source": [
    "model.train(VOCABULARY,\n",
    "             total_examples=len(VOCABULARY),\n",
    "             start_alpha=.1,\n",
    "             end_alpha=0.5,\n",
    "             epochs=15,\n",
    "             callbacks=[EpochLoss()])"
   ]
  },
  {
   "cell_type": "code",
   "execution_count": 9,
   "metadata": {},
   "outputs": [
    {
     "name": "stdout",
     "output_type": "stream",
     "text": [
      "austenite: [('nearly', 0.7236950397491455), ('ferrite', 0.699272632598877), ('martensite', 0.6804725527763367)]\n",
      "cobalt: [('slow', 0.7201051712036133), ('cnt', 0.7187455892562866), ('isolated', 0.673039436340332)]\n",
      "thickness: [('polishing', 0.7641053795814514), ('rram', 0.6823971271514893), ('steps', 0.6806197166442871)]\n",
      "hv: [('ubiquitous', 0.626889705657959), ('poset', 0.6238789558410645), ('normalized', 0.6187589764595032)]\n",
      "temperature: [('equilibrating', 0.7545353174209595), ('goss', 0.7445894479751587), ('prey', 0.7408083081245422)]\n",
      "casting: [('preferable', 0.7417943477630615), ('adsorbent', 0.7343586683273315), ('rnas', 0.7246285080909729)]\n",
      "oxygen: [('deforming', 0.8256338238716125), ('addressed', 0.7601260542869568), ('increasingly', 0.7358825206756592)]\n",
      "oxide: [('waa', 0.686445951461792), ('maximizing', 0.6795468926429749), ('fratura', 0.6771236658096313)]\n",
      "descaling: [('condense', 0.8986173272132874), ('circulating', 0.8259493112564087), ('instances', 0.763194739818573)]\n",
      "sulfur: [('inhibitors', 0.7389655113220215), ('myc', 0.728197455406189), ('cies', 0.7128311395645142)]\n",
      "bending: [('pcbm', 0.740962028503418), ('simscape', 0.6879173517227173), ('macro', 0.6846550703048706)]\n",
      "titanium: [('concini', 0.7948518395423889), ('nitride', 0.6825082898139954), ('limit', 0.6200789213180542)]\n",
      "vickers: [('indenter', 0.7558830380439758), ('controls', 0.7470793128013611), ('pomembna', 0.7428566813468933)]\n",
      "nitrogen: [('inversions', 0.731119692325592), ('rf', 0.7133532762527466), ('elections', 0.6961168050765991)]\n",
      "sheet: [('universit', 0.7244993448257446), ('ballistic', 0.7106097936630249), ('wounds', 0.7075033783912659)]\n",
      "carbide: [('intake', 0.6829281449317932), ('school', 0.6811349987983704), ('baby', 0.6764804124832153)]\n",
      "martensite: [('grain', 0.7401300668716431), ('carrington', 0.7265844345092773), ('varjenja', 0.7186554670333862)]\n",
      "boron: [('sfe', 0.7373281717300415), ('mnal', 0.7248591780662537), ('viscoelastic', 0.7243781685829163)]\n",
      "heating: [('wrought', 0.7538178563117981), ('equilibria', 0.7305682897567749), ('death', 0.7290439605712891)]\n",
      "reheating: [('spr', 0.7576318979263306), ('pls', 0.7472195625305176), ('windsor', 0.7384399175643921)]\n",
      "rate: [('manet', 0.7488439083099365), ('pool', 0.7451654672622681), ('semiconductors', 0.7202177047729492)]\n",
      "cooling: [('hda', 0.7621853351593018), ('wuf', 0.7602406740188599), ('vrlo', 0.7510451078414917)]\n",
      "surface: [('shaped', 0.6847245693206787), ('pt', 0.6529196500778198), ('gurson', 0.637900173664093)]\n",
      "ferrite: [('crystallites', 0.7623201012611389), ('grain', 0.7419518232345581), ('crimson', 0.708867073059082)]\n",
      "slab: [('cv', 0.8306998014450073), ('younger', 0.8036760091781616), ('sac', 0.790719211101532)]\n",
      "microstructure: [('microstress', 0.7208226919174194), ('proses', 0.7201274633407593), ('agreement', 0.7093247771263123)]\n",
      "ingot: [('observable', 0.7641035318374634), ('benefit', 0.7500520348548889), ('decays', 0.7388455867767334)]\n",
      "tension: [('hypocoiled', 0.7545533180236816), ('h', 0.7420684099197388), ('th', 0.740656316280365)]\n",
      "alloy: [('swing', 0.7568766474723816), ('desenvolvimento', 0.7280298471450806), ('dendrites', 0.7125998735427856)]\n",
      "toughness: [('certified', 0.7808957695960999), ('si', 0.7409708499908447), ('batch', 0.739528477191925)]\n",
      "furnace: [('settings', 0.7188829183578491), ('martens', 0.7044891119003296), ('weevil', 0.7038428783416748)]\n",
      "pickled: [('itk', 0.7774981260299683), ('mulberry', 0.7708730697631836), ('cdcre', 0.7705053091049194)]\n",
      "uts: [('millet', 0.7725228071212769), ('abnormal', 0.7621226906776428), ('afp', 0.7469462156295776)]\n",
      "coil: [('heterogeneous', 0.7451549768447876), ('nega', 0.7357275485992432), ('bundle', 0.7148298621177673)]\n",
      "anneal: [('example', 0.7034729719161987), ('fap', 0.680539608001709), ('culturally', 0.6566487550735474)]\n",
      "dff: [('refine', 0.7639828324317932), ('imparted', 0.7539215087890625), ('epd', 0.7407107353210449)]\n",
      "rail: [('scale', 0.6740344762802124), ('electrostatically', 0.6657830476760864), ('elika', 0.6451123952865601)]\n",
      "sfe: [('mnal', 0.7548128962516785), ('boron', 0.7373281717300415), ('themain', 0.7198947668075562)]\n",
      "partitioning: [('sites', 0.7562599182128906), ('q', 0.7231487035751343), ('mediated', 0.7172813415527344)]\n",
      "flatness: [('comparably', 0.7194768190383911), ('embedding', 0.6792063117027283), ('tribune', 0.6783851385116577)]\n",
      "rtf: [('wiley', 0.701678454875946), ('pathway', 0.6870384216308594), ('gmbh', 0.6845287084579468)]\n",
      "silicon: [('semiflexible', 0.8293260931968689), ('hydropneumatic', 0.7901228666305542), ('sec', 0.7839384078979492)]\n",
      "atmosphere: [('ssab', 0.6836973428726196), ('monte', 0.6598235368728638), ('carlo', 0.6584283709526062)]\n",
      "phosphorous: [('centrally', 0.7453545331954956), ('total', 0.6593761444091797), ('bacterial', 0.6491832733154297)]\n",
      "coating: [('cycle', 0.8252466917037964), ('inds', 0.8165230751037598), ('predvsem', 0.7792367339134216)]\n",
      "flattening: [('fas', 0.7990117073059082), ('upper', 0.752055287361145), ('addressing', 0.730095624923706)]\n",
      "\"word 'decarburation' not in vocabulary\"\n",
      "quenching: [('proportional', 0.6671348810195923), ('nanocentres', 0.6648485064506531), ('nanowires', 0.6318850517272949)]\n",
      "tempered: [('rdbp', 0.7122572064399719), ('sorting', 0.7066506147384644), ('epitaxially', 0.6990565061569214)]\n",
      "isothermal: [('c', 0.6933918595314026), ('develops', 0.6874889731407166), ('retains', 0.6814727783203125)]\n",
      "composition: [('minimize', 0.6527221202850342), ('dentate', 0.6350666880607605), ('contractility', 0.6232138872146606)]\n",
      "density: [('freeze', 0.8368226885795593), ('bc', 0.7655622959136963), ('samo', 0.7282446622848511)]\n",
      "plasticity: [('compact', 0.8150233030319214), ('urine', 0.7705792188644409), ('met', 0.7654633522033691)]\n",
      "nickel: [('communities', 0.7261365056037903), ('surprised', 0.7108995914459229), ('optimized', 0.7005825638771057)]\n",
      "calcium: [('mnsod', 0.7502346634864807), ('sweet', 0.7393990755081177), ('miniscrew', 0.7168676853179932)]\n",
      "copper: [('parametrically', 0.7720348834991455), ('complications', 0.7410110831260681), ('firstly', 0.7212010622024536)]\n",
      "elongation: [('forecasted', 0.7590821981430054), ('randomized', 0.7204515933990479), ('claims', 0.6839739084243774)]\n",
      "electrodeposition: [('zro', 0.7093384265899658), ('des', 0.6952642202377319), ('portions', 0.6889430284500122)]\n",
      "soaking: [('behind', 0.873448371887207), ('companion', 0.8359922766685486), ('dissolution', 0.831053614616394)]\n",
      "dipping: [('partitioner', 0.7888875007629395), ('ht', 0.7708929777145386), ('gordon', 0.7703909873962402)]\n",
      "rolling: [('connections', 0.6626690626144409), ('exposures', 0.6596543788909912), ('soluble', 0.6468839645385742)]\n",
      "aluminium: [('nanocrystalline', 0.7529104948043823), ('technically', 0.7261627912521362), ('thermal', 0.7162292003631592)]\n",
      "zirconium: [('pouring', 0.779239296913147), ('espi', 0.7350529432296753), ('terms', 0.7176995277404785)]\n",
      "hardening: [('formwork', 0.7120782136917114), ('lay', 0.7020702958106995), ('departamento', 0.6911909580230713)]\n",
      "molybdenum: [('sfrs', 0.7519832253456116), ('tc', 0.7358804941177368), ('citric', 0.7233914136886597)]\n",
      "equalizing: [('supplemental', 0.7139371037483215), ('oc', 0.7036084532737732), ('occurrence', 0.6960434913635254)]\n",
      "inhibitor: [('overcome', 0.7756381034851074), ('salts', 0.7446389198303223), ('nine', 0.736359715461731)]\n",
      "pickling: [('battery', 0.7777681946754456), ('stoichiometric', 0.7315787076950073), ('pmma', 0.6940723657608032)]\n",
      "overaging: [('revolution', 0.9059827327728271), ('railroad', 0.8962024450302124), ('plasmon', 0.8953331708908081)]\n",
      "coiling: [('tbw', 0.7576172351837158), ('weighted', 0.7364916801452637), ('venlafaxine', 0.7349110841751099)]\n",
      "bainite: [('useful', 0.7379897832870483), ('inspection', 0.7098249197006226), ('pan', 0.7089959383010864)]\n",
      "brinell: [('perfringens', 0.8659594655036926), ('clostridium', 0.7897539138793945), ('aod', 0.7888405323028564)]\n",
      "inclusion: [('jawaban', 0.7778307199478149), ('tbw', 0.7686521410942078), ('michaelis', 0.7646968960762024)]\n",
      "quenched: [('individual', 0.7502889037132263), ('tribune', 0.7497532963752747), ('strong', 0.7437593936920166)]\n",
      "annealing: [('leukocytes', 0.7939736247062683), ('vivo', 0.770643413066864), ('nrs', 0.7689045667648315)]\n",
      "pearlite: [('contracts', 0.7556660175323486), ('liver', 0.7407493591308594), ('neonatal', 0.7334516644477844)]\n",
      "charpy: [('microsurgical', 0.7781081199645996), ('outburst', 0.7001256942749023), ('monoid', 0.689000129699707)]\n",
      "retention: [('lifetime', 0.6888055801391602), ('improvement', 0.6706851124763489), ('nurses', 0.6614220142364502)]\n",
      "wire: [('straightening', 0.7661495208740234), ('ridership', 0.7547107934951782), ('heats', 0.7460873126983643)]\n",
      "chromium: [('nitrides', 0.7919778227806091), ('tea', 0.7513959407806396), ('percentage', 0.733268141746521)]\n",
      "frt: [('mediated', 0.718565046787262), ('tropical', 0.6796491146087646), ('attainment', 0.674954891204834)]\n",
      "reheated: [('pasta', 0.7439250349998474), ('chilled', 0.7436816692352295), ('cooked', 0.7377228140830994)]\n"
     ]
    },
    {
     "name": "stdout",
     "output_type": "stream",
     "text": [
      "manganese: [('libr', 0.760863184928894), ('ridership', 0.676112949848175), ('purple', 0.6667639017105103)]\n",
      "tin: [('phosphatase', 0.7505589723587036), ('poag', 0.742942214012146), ('thomson', 0.7399418950080872)]\n",
      "magnetic: [('twitch', 0.9651629328727722), ('fs', 0.8618342280387878), ('singkat', 0.8033508658409119)]\n",
      "interstitial: [('viscera', 0.8643798232078552), ('amnion', 0.8633195161819458), ('kidneys', 0.8406178951263428)]\n",
      "twinning: [('incorporates', 0.6968389749526978), ('entropy', 0.6859356164932251), ('maintenance', 0.6761112213134766)]\n",
      "martensitic: [('gfr', 0.710545003414154), ('connect', 0.704312264919281), ('cop', 0.6949915289878845)]\n",
      "hydrogen: [('pneumothorax', 0.734032392501831), ('steering', 0.7162342667579651), ('profiling', 0.6983475089073181)]\n",
      "vanadium: [('antiadherent', 0.6644886136054993), ('photocatalytic', 0.6525822281837463), ('true', 0.650658130645752)]\n",
      "cooled: [('contained', 0.7765299081802368), ('could', 0.7331807613372803), ('nbs', 0.7321070432662964)]\n",
      "carbon: [('salt', 0.7636431455612183), ('coating', 0.7455922961235046), ('neighborhoods', 0.7388349175453186)]\n",
      "recrystallization: [('disoriented', 0.7576247453689575), ('phenol', 0.6601590514183044), ('br', 0.6464877128601074)]\n",
      "antimony: [('exponentially', 0.7098912000656128), ('recozimento', 0.6905354261398315), ('shore', 0.6788415908813477)]\n",
      "niobium: [('phosphines', 0.7251547574996948), ('educaci', 0.7073872685432434), ('timolium', 0.705235481262207)]\n"
     ]
    }
   ],
   "source": [
    "for ref in REF_DATA:\n",
    "    try:\n",
    "        print(f\"{ref}: {model.wv.most_similar(positive=[ref])[:3]}\")\n",
    "    except KeyError as err:\n",
    "        print(err)"
   ]
  },
  {
   "cell_type": "code",
   "execution_count": 10,
   "metadata": {},
   "outputs": [
    {
     "name": "stdout",
     "output_type": "stream",
     "text": [
      "0.2932706116461968\n"
     ]
    }
   ],
   "source": [
    "pip_dist = calculate_pip_distance(REF_DATA, REF_MATRIX, model)\n",
    "print(pip_dist)"
   ]
  }
 ],
 "metadata": {
  "kernelspec": {
   "display_name": "Python 3",
   "language": "python",
   "name": "python3"
  },
  "language_info": {
   "codemirror_mode": {
    "name": "ipython",
    "version": 3
   },
   "file_extension": ".py",
   "mimetype": "text/x-python",
   "name": "python",
   "nbconvert_exporter": "python",
   "pygments_lexer": "ipython3",
   "version": "3.7.7"
  }
 },
 "nbformat": 4,
 "nbformat_minor": 4
}
